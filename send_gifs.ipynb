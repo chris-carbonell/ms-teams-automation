{
 "cells": [
  {
   "cell_type": "markdown",
   "id": "3cb868a2-93e5-4f44-af3a-0ea35058f221",
   "metadata": {
    "tags": []
   },
   "source": [
    "# Overview\n",
    "* send GIFs in MS Teams using PyAutoGUI\n",
    "\n",
    "# Resources\n",
    "* Tutorial<br>\n",
    "https://ayushi7rawat.medium.com/how-to-automate-ms-teams-with-python-6a5ca1b62cb2\n",
    "* Repo<br>\n",
    "https://github.com/ayushi7rawat/MS-Teams-Automation/blob/master/script.py"
   ]
  },
  {
   "cell_type": "markdown",
   "id": "68e17c1f-d3cb-4198-a7f3-2c3f95125897",
   "metadata": {},
   "source": [
    "# Dependencies"
   ]
  },
  {
   "cell_type": "code",
   "execution_count": null,
   "id": "d73eb72e-7bc3-4bfc-981f-e3aa3fa90a5d",
   "metadata": {},
   "outputs": [],
   "source": [
    "# general\n",
    "from datetime import datetime\n",
    "import random\n",
    "from time import sleep\n",
    "import os\n",
    "\n",
    "# auto GUI\n",
    "import pyautogui"
   ]
  },
  {
   "cell_type": "markdown",
   "id": "450c3e46-cb29-4b2b-910d-9f8673c42cdf",
   "metadata": {},
   "source": [
    "# Constants"
   ]
  },
  {
   "cell_type": "code",
   "execution_count": null,
   "id": "39e433b1-62ef-48ae-b52b-30ef60084cce",
   "metadata": {},
   "outputs": [],
   "source": [
    "PATH_GIF_BUTTON = \"assets/ms-teams/gif-button.png\""
   ]
  },
  {
   "cell_type": "code",
   "execution_count": null,
   "id": "29dd0b55-1f08-467c-95ff-5ae0d3fe14a7",
   "metadata": {},
   "outputs": [],
   "source": [
    "SLEEP = 0.2  # default seconds to sleep between actions\n",
    "# 0.2 is too low for NEW gif search terms (e.g., the first iteration gets skipped bc the gifs aren't cached)"
   ]
  },
  {
   "cell_type": "code",
   "execution_count": null,
   "id": "c10eba46-9cdf-4d5f-a2d1-6eb579af8345",
   "metadata": {},
   "outputs": [],
   "source": [
    "# relative locations of individual gifs starting from the gif button\n",
    "# 1, 2, 3\n",
    "# 4, 5, 6\n",
    "# 7, 8, 9\n",
    "# 10, 11, 12\n",
    "GIF_LOCATIONS = {\n",
    "    \n",
    "    1: (-100, -400),\n",
    "    2: (0, -400),\n",
    "    3: (100, -400),\n",
    "    \n",
    "    4: (-100, -300),\n",
    "    5: (0, -300),\n",
    "    6: (100, -300),\n",
    "    \n",
    "    7: (-100, -200),\n",
    "    8: (0, -200),\n",
    "    9: (100, -200),\n",
    "    \n",
    "    10: (-100, -100),\n",
    "    11: (0, -100),\n",
    "    12: (100, -100)\n",
    "}"
   ]
  },
  {
   "cell_type": "markdown",
   "id": "a52b674a-e34e-4e94-b70e-bd8764983c3a",
   "metadata": {},
   "source": [
    "# Send GIFs"
   ]
  },
  {
   "cell_type": "code",
   "execution_count": null,
   "id": "4a160b25-fb0e-4757-aaed-9b7536229bf0",
   "metadata": {},
   "outputs": [],
   "source": [
    "def send_gif(giphy_search_term, i, sleep_override=None):\n",
    "    '''\n",
    "    send one gif for a given search term\n",
    "    '''\n",
    "    \n",
    "    # get sleep\n",
    "    if sleep_override == None:\n",
    "        sleep_manual = SLEEP\n",
    "    else:\n",
    "        sleep_manual = sleep_override\n",
    "    \n",
    "    try:\n",
    "\n",
    "        # open gifs\n",
    "        gif_button = pyautogui.locateCenterOnScreen(PATH_GIF_BUTTON)\n",
    "        pyautogui.moveTo(gif_button)\n",
    "        pyautogui.click()\n",
    "        sleep(SLEEP)\n",
    "\n",
    "        # get gifs\n",
    "        pyautogui.write(giphy_search_term)\n",
    "        sleep(sleep_manual)  # loading gifs of new search term can require more time\n",
    "\n",
    "        # select gif\n",
    "        pyautogui.move(GIF_LOCATIONS[i][0], GIF_LOCATIONS[i][1])\n",
    "        pyautogui.click()\n",
    "        sleep(SLEEP)\n",
    "\n",
    "        # sendapplause\n",
    "        pyautogui.press('enter')\n",
    "        sleep(SLEEP)\n",
    "        \n",
    "    except Exception as e:\n",
    "        print(e)\n",
    "    \n",
    "    return"
   ]
  },
  {
   "cell_type": "code",
   "execution_count": null,
   "id": "305f7075-ef55-4dbc-9f5e-30be19cb1fb6",
   "metadata": {},
   "outputs": [],
   "source": [
    "# example\n",
    "# send_gif(\"apple\", 2)"
   ]
  },
  {
   "cell_type": "code",
   "execution_count": null,
   "id": "1910c876-e2b5-40e5-933e-017683d11f07",
   "metadata": {},
   "outputs": [],
   "source": [
    "def send_multiple_gifs(giphy_search_term, num_gifs=12):\n",
    "    '''\n",
    "    send multiple gifs for one search term\n",
    "    '''\n",
    "    \n",
    "    # cap num at 12 (ie most gifs available)\n",
    "    num_gifs = min(num_gifs, 12)\n",
    "    \n",
    "    gif_locations = list(range(1,13))\n",
    "    \n",
    "    for i in range(num_gifs):\n",
    "\n",
    "        # get gif location\n",
    "        loc = random.choice(gif_locations)\n",
    "        gif_locations.remove(loc)\n",
    "        \n",
    "        # send gif\n",
    "        if i == 0:\n",
    "            # first gif slower bc gifs not cached yet\n",
    "            send_gif(giphy_search_term, loc, 0.4)\n",
    "        else:\n",
    "            send_gif(giphy_search_term, loc)"
   ]
  },
  {
   "cell_type": "code",
   "execution_count": null,
   "id": "c23a3fbb-db4d-4175-962a-87cfaba1cd48",
   "metadata": {},
   "outputs": [],
   "source": [
    "# send multiple gifs\n",
    "# e.g., \n",
    "# send_multiple_gifs(\"chuck norris\", 5)\n",
    "# attempts to send 5 gifs based on the search term \"chuck norris\"\n",
    "\n",
    "# send_multiple_gifs(\"welcome back\", 12)"
   ]
  },
  {
   "cell_type": "code",
   "execution_count": null,
   "id": "099e624b-2baf-45a7-97c4-06b50684efb1",
   "metadata": {},
   "outputs": [],
   "source": [
    "def send_mulitple_terms(ls_giphy_search_terms, num_gifs_per=12):\n",
    "    '''\n",
    "    send multiple gifs from multiple search terms\n",
    "    '''\n",
    "    \n",
    "    for giphy_search_term in ls_giphy_search_terms:\n",
    "        send_multiple_gifs(giphy_search_term, num_gifs=num_gifs_per)"
   ]
  },
  {
   "cell_type": "code",
   "execution_count": null,
   "id": "3cb06c8e-3312-4dbd-8008-933542c25346",
   "metadata": {},
   "outputs": [],
   "source": [
    "# example\n",
    "# send_mulitple_terms([\"chuck norris\", \"kanye\", \"cheesin\", \"laughing\"], 2)\n",
    "\n",
    "send_mulitple_terms([\"cheesin\", \"laughing\"], 10)"
   ]
  }
 ],
 "metadata": {
  "kernelspec": {
   "display_name": "venv-pag",
   "language": "python",
   "name": "venv-pag"
  },
  "language_info": {
   "codemirror_mode": {
    "name": "ipython",
    "version": 3
   },
   "file_extension": ".py",
   "mimetype": "text/x-python",
   "name": "python",
   "nbconvert_exporter": "python",
   "pygments_lexer": "ipython3",
   "version": "3.8.1"
  }
 },
 "nbformat": 4,
 "nbformat_minor": 5
}
